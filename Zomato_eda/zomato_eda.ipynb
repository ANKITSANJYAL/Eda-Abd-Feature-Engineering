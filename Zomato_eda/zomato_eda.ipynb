{
 "cells": [
  {
   "cell_type": "markdown",
   "id": "7c4dba1a",
   "metadata": {},
   "source": [
    "# Zomato Dataset Exploratory Data Analysis"
   ]
  },
  {
   "cell_type": "code",
   "execution_count": 1,
   "id": "174b4114",
   "metadata": {},
   "outputs": [],
   "source": [
    "import pandas as pd\n",
    "import numpy as  np\n",
    "import seaborn as sns\n",
    "import matplotlib.pyplot as plt\n",
    "%matplotlib inline"
   ]
  },
  {
   "cell_type": "code",
   "execution_count": 2,
   "id": "e793f5a9",
   "metadata": {},
   "outputs": [
    {
     "ename": "UnicodeDecodeError",
     "evalue": "'utf-8' codec can't decode byte 0xed in position 7044: invalid continuation byte",
     "output_type": "error",
     "traceback": [
      "\u001b[1;31m---------------------------------------------------------------------------\u001b[0m",
      "\u001b[1;31mUnicodeDecodeError\u001b[0m                        Traceback (most recent call last)",
      "Input \u001b[1;32mIn [2]\u001b[0m, in \u001b[0;36m<cell line: 1>\u001b[1;34m()\u001b[0m\n\u001b[1;32m----> 1\u001b[0m df \u001b[38;5;241m=\u001b[39m \u001b[43mpd\u001b[49m\u001b[38;5;241;43m.\u001b[39;49m\u001b[43mread_csv\u001b[49m\u001b[43m(\u001b[49m\u001b[38;5;124;43m'\u001b[39;49m\u001b[38;5;124;43mzomato.csv\u001b[39;49m\u001b[38;5;124;43m'\u001b[39;49m\u001b[43m)\u001b[49m\n",
      "File \u001b[1;32m~\\AppData\\Local\\Programs\\Python\\Python310\\lib\\site-packages\\pandas\\util\\_decorators.py:311\u001b[0m, in \u001b[0;36mdeprecate_nonkeyword_arguments.<locals>.decorate.<locals>.wrapper\u001b[1;34m(*args, **kwargs)\u001b[0m\n\u001b[0;32m    305\u001b[0m \u001b[38;5;28;01mif\u001b[39;00m \u001b[38;5;28mlen\u001b[39m(args) \u001b[38;5;241m>\u001b[39m num_allow_args:\n\u001b[0;32m    306\u001b[0m     warnings\u001b[38;5;241m.\u001b[39mwarn(\n\u001b[0;32m    307\u001b[0m         msg\u001b[38;5;241m.\u001b[39mformat(arguments\u001b[38;5;241m=\u001b[39marguments),\n\u001b[0;32m    308\u001b[0m         \u001b[38;5;167;01mFutureWarning\u001b[39;00m,\n\u001b[0;32m    309\u001b[0m         stacklevel\u001b[38;5;241m=\u001b[39mstacklevel,\n\u001b[0;32m    310\u001b[0m     )\n\u001b[1;32m--> 311\u001b[0m \u001b[38;5;28;01mreturn\u001b[39;00m func(\u001b[38;5;241m*\u001b[39margs, \u001b[38;5;241m*\u001b[39m\u001b[38;5;241m*\u001b[39mkwargs)\n",
      "File \u001b[1;32m~\\AppData\\Local\\Programs\\Python\\Python310\\lib\\site-packages\\pandas\\io\\parsers\\readers.py:680\u001b[0m, in \u001b[0;36mread_csv\u001b[1;34m(filepath_or_buffer, sep, delimiter, header, names, index_col, usecols, squeeze, prefix, mangle_dupe_cols, dtype, engine, converters, true_values, false_values, skipinitialspace, skiprows, skipfooter, nrows, na_values, keep_default_na, na_filter, verbose, skip_blank_lines, parse_dates, infer_datetime_format, keep_date_col, date_parser, dayfirst, cache_dates, iterator, chunksize, compression, thousands, decimal, lineterminator, quotechar, quoting, doublequote, escapechar, comment, encoding, encoding_errors, dialect, error_bad_lines, warn_bad_lines, on_bad_lines, delim_whitespace, low_memory, memory_map, float_precision, storage_options)\u001b[0m\n\u001b[0;32m    665\u001b[0m kwds_defaults \u001b[38;5;241m=\u001b[39m _refine_defaults_read(\n\u001b[0;32m    666\u001b[0m     dialect,\n\u001b[0;32m    667\u001b[0m     delimiter,\n\u001b[1;32m   (...)\u001b[0m\n\u001b[0;32m    676\u001b[0m     defaults\u001b[38;5;241m=\u001b[39m{\u001b[38;5;124m\"\u001b[39m\u001b[38;5;124mdelimiter\u001b[39m\u001b[38;5;124m\"\u001b[39m: \u001b[38;5;124m\"\u001b[39m\u001b[38;5;124m,\u001b[39m\u001b[38;5;124m\"\u001b[39m},\n\u001b[0;32m    677\u001b[0m )\n\u001b[0;32m    678\u001b[0m kwds\u001b[38;5;241m.\u001b[39mupdate(kwds_defaults)\n\u001b[1;32m--> 680\u001b[0m \u001b[38;5;28;01mreturn\u001b[39;00m \u001b[43m_read\u001b[49m\u001b[43m(\u001b[49m\u001b[43mfilepath_or_buffer\u001b[49m\u001b[43m,\u001b[49m\u001b[43m \u001b[49m\u001b[43mkwds\u001b[49m\u001b[43m)\u001b[49m\n",
      "File \u001b[1;32m~\\AppData\\Local\\Programs\\Python\\Python310\\lib\\site-packages\\pandas\\io\\parsers\\readers.py:575\u001b[0m, in \u001b[0;36m_read\u001b[1;34m(filepath_or_buffer, kwds)\u001b[0m\n\u001b[0;32m    572\u001b[0m _validate_names(kwds\u001b[38;5;241m.\u001b[39mget(\u001b[38;5;124m\"\u001b[39m\u001b[38;5;124mnames\u001b[39m\u001b[38;5;124m\"\u001b[39m, \u001b[38;5;28;01mNone\u001b[39;00m))\n\u001b[0;32m    574\u001b[0m \u001b[38;5;66;03m# Create the parser.\u001b[39;00m\n\u001b[1;32m--> 575\u001b[0m parser \u001b[38;5;241m=\u001b[39m TextFileReader(filepath_or_buffer, \u001b[38;5;241m*\u001b[39m\u001b[38;5;241m*\u001b[39mkwds)\n\u001b[0;32m    577\u001b[0m \u001b[38;5;28;01mif\u001b[39;00m chunksize \u001b[38;5;129;01mor\u001b[39;00m iterator:\n\u001b[0;32m    578\u001b[0m     \u001b[38;5;28;01mreturn\u001b[39;00m parser\n",
      "File \u001b[1;32m~\\AppData\\Local\\Programs\\Python\\Python310\\lib\\site-packages\\pandas\\io\\parsers\\readers.py:933\u001b[0m, in \u001b[0;36mTextFileReader.__init__\u001b[1;34m(self, f, engine, **kwds)\u001b[0m\n\u001b[0;32m    930\u001b[0m     \u001b[38;5;28mself\u001b[39m\u001b[38;5;241m.\u001b[39moptions[\u001b[38;5;124m\"\u001b[39m\u001b[38;5;124mhas_index_names\u001b[39m\u001b[38;5;124m\"\u001b[39m] \u001b[38;5;241m=\u001b[39m kwds[\u001b[38;5;124m\"\u001b[39m\u001b[38;5;124mhas_index_names\u001b[39m\u001b[38;5;124m\"\u001b[39m]\n\u001b[0;32m    932\u001b[0m \u001b[38;5;28mself\u001b[39m\u001b[38;5;241m.\u001b[39mhandles: IOHandles \u001b[38;5;241m|\u001b[39m \u001b[38;5;28;01mNone\u001b[39;00m \u001b[38;5;241m=\u001b[39m \u001b[38;5;28;01mNone\u001b[39;00m\n\u001b[1;32m--> 933\u001b[0m \u001b[38;5;28mself\u001b[39m\u001b[38;5;241m.\u001b[39m_engine \u001b[38;5;241m=\u001b[39m \u001b[38;5;28;43mself\u001b[39;49m\u001b[38;5;241;43m.\u001b[39;49m\u001b[43m_make_engine\u001b[49m\u001b[43m(\u001b[49m\u001b[43mf\u001b[49m\u001b[43m,\u001b[49m\u001b[43m \u001b[49m\u001b[38;5;28;43mself\u001b[39;49m\u001b[38;5;241;43m.\u001b[39;49m\u001b[43mengine\u001b[49m\u001b[43m)\u001b[49m\n",
      "File \u001b[1;32m~\\AppData\\Local\\Programs\\Python\\Python310\\lib\\site-packages\\pandas\\io\\parsers\\readers.py:1235\u001b[0m, in \u001b[0;36mTextFileReader._make_engine\u001b[1;34m(self, f, engine)\u001b[0m\n\u001b[0;32m   1232\u001b[0m     \u001b[38;5;28;01mraise\u001b[39;00m \u001b[38;5;167;01mValueError\u001b[39;00m(msg)\n\u001b[0;32m   1234\u001b[0m \u001b[38;5;28;01mtry\u001b[39;00m:\n\u001b[1;32m-> 1235\u001b[0m     \u001b[38;5;28;01mreturn\u001b[39;00m mapping[engine](f, \u001b[38;5;241m*\u001b[39m\u001b[38;5;241m*\u001b[39m\u001b[38;5;28mself\u001b[39m\u001b[38;5;241m.\u001b[39moptions)\n\u001b[0;32m   1236\u001b[0m \u001b[38;5;28;01mexcept\u001b[39;00m \u001b[38;5;167;01mException\u001b[39;00m:\n\u001b[0;32m   1237\u001b[0m     \u001b[38;5;28;01mif\u001b[39;00m \u001b[38;5;28mself\u001b[39m\u001b[38;5;241m.\u001b[39mhandles \u001b[38;5;129;01mis\u001b[39;00m \u001b[38;5;129;01mnot\u001b[39;00m \u001b[38;5;28;01mNone\u001b[39;00m:\n",
      "File \u001b[1;32m~\\AppData\\Local\\Programs\\Python\\Python310\\lib\\site-packages\\pandas\\io\\parsers\\c_parser_wrapper.py:75\u001b[0m, in \u001b[0;36mCParserWrapper.__init__\u001b[1;34m(self, src, **kwds)\u001b[0m\n\u001b[0;32m     72\u001b[0m     kwds\u001b[38;5;241m.\u001b[39mpop(key, \u001b[38;5;28;01mNone\u001b[39;00m)\n\u001b[0;32m     74\u001b[0m kwds[\u001b[38;5;124m\"\u001b[39m\u001b[38;5;124mdtype\u001b[39m\u001b[38;5;124m\"\u001b[39m] \u001b[38;5;241m=\u001b[39m ensure_dtype_objs(kwds\u001b[38;5;241m.\u001b[39mget(\u001b[38;5;124m\"\u001b[39m\u001b[38;5;124mdtype\u001b[39m\u001b[38;5;124m\"\u001b[39m, \u001b[38;5;28;01mNone\u001b[39;00m))\n\u001b[1;32m---> 75\u001b[0m \u001b[38;5;28mself\u001b[39m\u001b[38;5;241m.\u001b[39m_reader \u001b[38;5;241m=\u001b[39m parsers\u001b[38;5;241m.\u001b[39mTextReader(src, \u001b[38;5;241m*\u001b[39m\u001b[38;5;241m*\u001b[39mkwds)\n\u001b[0;32m     77\u001b[0m \u001b[38;5;28mself\u001b[39m\u001b[38;5;241m.\u001b[39munnamed_cols \u001b[38;5;241m=\u001b[39m \u001b[38;5;28mself\u001b[39m\u001b[38;5;241m.\u001b[39m_reader\u001b[38;5;241m.\u001b[39munnamed_cols\n\u001b[0;32m     79\u001b[0m \u001b[38;5;66;03m# error: Cannot determine type of 'names'\u001b[39;00m\n",
      "File \u001b[1;32m~\\AppData\\Local\\Programs\\Python\\Python310\\lib\\site-packages\\pandas\\_libs\\parsers.pyx:544\u001b[0m, in \u001b[0;36mpandas._libs.parsers.TextReader.__cinit__\u001b[1;34m()\u001b[0m\n",
      "File \u001b[1;32m~\\AppData\\Local\\Programs\\Python\\Python310\\lib\\site-packages\\pandas\\_libs\\parsers.pyx:633\u001b[0m, in \u001b[0;36mpandas._libs.parsers.TextReader._get_header\u001b[1;34m()\u001b[0m\n",
      "File \u001b[1;32m~\\AppData\\Local\\Programs\\Python\\Python310\\lib\\site-packages\\pandas\\_libs\\parsers.pyx:847\u001b[0m, in \u001b[0;36mpandas._libs.parsers.TextReader._tokenize_rows\u001b[1;34m()\u001b[0m\n",
      "File \u001b[1;32m~\\AppData\\Local\\Programs\\Python\\Python310\\lib\\site-packages\\pandas\\_libs\\parsers.pyx:1952\u001b[0m, in \u001b[0;36mpandas._libs.parsers.raise_parser_error\u001b[1;34m()\u001b[0m\n",
      "\u001b[1;31mUnicodeDecodeError\u001b[0m: 'utf-8' codec can't decode byte 0xed in position 7044: invalid continuation byte"
     ]
    }
   ],
   "source": [
    "df = pd.read_csv('zomato.csv')"
   ]
  },
  {
   "cell_type": "markdown",
   "id": "1de9c02d",
   "metadata": {},
   "source": [
    "He we got unicode error so here we need to pass some \"encoding parameter\"  \n",
    "  \n",
    "in this case we wii=ll use 'latin-1'"
   ]
  },
  {
   "cell_type": "code",
   "execution_count": 3,
   "id": "894464e2",
   "metadata": {},
   "outputs": [],
   "source": [
    "df = pd.read_csv('zomato.csv',encoding='latin-1')\n"
   ]
  },
  {
   "cell_type": "code",
   "execution_count": 4,
   "id": "6eef82e4",
   "metadata": {},
   "outputs": [
    {
     "data": {
      "text/html": [
       "<div>\n",
       "<style scoped>\n",
       "    .dataframe tbody tr th:only-of-type {\n",
       "        vertical-align: middle;\n",
       "    }\n",
       "\n",
       "    .dataframe tbody tr th {\n",
       "        vertical-align: top;\n",
       "    }\n",
       "\n",
       "    .dataframe thead th {\n",
       "        text-align: right;\n",
       "    }\n",
       "</style>\n",
       "<table border=\"1\" class=\"dataframe\">\n",
       "  <thead>\n",
       "    <tr style=\"text-align: right;\">\n",
       "      <th></th>\n",
       "      <th>Restaurant ID</th>\n",
       "      <th>Restaurant Name</th>\n",
       "      <th>Country Code</th>\n",
       "      <th>City</th>\n",
       "      <th>Address</th>\n",
       "      <th>Locality</th>\n",
       "      <th>Locality Verbose</th>\n",
       "      <th>Longitude</th>\n",
       "      <th>Latitude</th>\n",
       "      <th>Cuisines</th>\n",
       "      <th>...</th>\n",
       "      <th>Currency</th>\n",
       "      <th>Has Table booking</th>\n",
       "      <th>Has Online delivery</th>\n",
       "      <th>Is delivering now</th>\n",
       "      <th>Switch to order menu</th>\n",
       "      <th>Price range</th>\n",
       "      <th>Aggregate rating</th>\n",
       "      <th>Rating color</th>\n",
       "      <th>Rating text</th>\n",
       "      <th>Votes</th>\n",
       "    </tr>\n",
       "  </thead>\n",
       "  <tbody>\n",
       "    <tr>\n",
       "      <th>0</th>\n",
       "      <td>6317637</td>\n",
       "      <td>Le Petit Souffle</td>\n",
       "      <td>162</td>\n",
       "      <td>Makati City</td>\n",
       "      <td>Third Floor, Century City Mall, Kalayaan Avenu...</td>\n",
       "      <td>Century City Mall, Poblacion, Makati City</td>\n",
       "      <td>Century City Mall, Poblacion, Makati City, Mak...</td>\n",
       "      <td>121.027535</td>\n",
       "      <td>14.565443</td>\n",
       "      <td>French, Japanese, Desserts</td>\n",
       "      <td>...</td>\n",
       "      <td>Botswana Pula(P)</td>\n",
       "      <td>Yes</td>\n",
       "      <td>No</td>\n",
       "      <td>No</td>\n",
       "      <td>No</td>\n",
       "      <td>3</td>\n",
       "      <td>4.8</td>\n",
       "      <td>Dark Green</td>\n",
       "      <td>Excellent</td>\n",
       "      <td>314</td>\n",
       "    </tr>\n",
       "    <tr>\n",
       "      <th>1</th>\n",
       "      <td>6304287</td>\n",
       "      <td>Izakaya Kikufuji</td>\n",
       "      <td>162</td>\n",
       "      <td>Makati City</td>\n",
       "      <td>Little Tokyo, 2277 Chino Roces Avenue, Legaspi...</td>\n",
       "      <td>Little Tokyo, Legaspi Village, Makati City</td>\n",
       "      <td>Little Tokyo, Legaspi Village, Makati City, Ma...</td>\n",
       "      <td>121.014101</td>\n",
       "      <td>14.553708</td>\n",
       "      <td>Japanese</td>\n",
       "      <td>...</td>\n",
       "      <td>Botswana Pula(P)</td>\n",
       "      <td>Yes</td>\n",
       "      <td>No</td>\n",
       "      <td>No</td>\n",
       "      <td>No</td>\n",
       "      <td>3</td>\n",
       "      <td>4.5</td>\n",
       "      <td>Dark Green</td>\n",
       "      <td>Excellent</td>\n",
       "      <td>591</td>\n",
       "    </tr>\n",
       "    <tr>\n",
       "      <th>2</th>\n",
       "      <td>6300002</td>\n",
       "      <td>Heat - Edsa Shangri-La</td>\n",
       "      <td>162</td>\n",
       "      <td>Mandaluyong City</td>\n",
       "      <td>Edsa Shangri-La, 1 Garden Way, Ortigas, Mandal...</td>\n",
       "      <td>Edsa Shangri-La, Ortigas, Mandaluyong City</td>\n",
       "      <td>Edsa Shangri-La, Ortigas, Mandaluyong City, Ma...</td>\n",
       "      <td>121.056831</td>\n",
       "      <td>14.581404</td>\n",
       "      <td>Seafood, Asian, Filipino, Indian</td>\n",
       "      <td>...</td>\n",
       "      <td>Botswana Pula(P)</td>\n",
       "      <td>Yes</td>\n",
       "      <td>No</td>\n",
       "      <td>No</td>\n",
       "      <td>No</td>\n",
       "      <td>4</td>\n",
       "      <td>4.4</td>\n",
       "      <td>Green</td>\n",
       "      <td>Very Good</td>\n",
       "      <td>270</td>\n",
       "    </tr>\n",
       "    <tr>\n",
       "      <th>3</th>\n",
       "      <td>6318506</td>\n",
       "      <td>Ooma</td>\n",
       "      <td>162</td>\n",
       "      <td>Mandaluyong City</td>\n",
       "      <td>Third Floor, Mega Fashion Hall, SM Megamall, O...</td>\n",
       "      <td>SM Megamall, Ortigas, Mandaluyong City</td>\n",
       "      <td>SM Megamall, Ortigas, Mandaluyong City, Mandal...</td>\n",
       "      <td>121.056475</td>\n",
       "      <td>14.585318</td>\n",
       "      <td>Japanese, Sushi</td>\n",
       "      <td>...</td>\n",
       "      <td>Botswana Pula(P)</td>\n",
       "      <td>No</td>\n",
       "      <td>No</td>\n",
       "      <td>No</td>\n",
       "      <td>No</td>\n",
       "      <td>4</td>\n",
       "      <td>4.9</td>\n",
       "      <td>Dark Green</td>\n",
       "      <td>Excellent</td>\n",
       "      <td>365</td>\n",
       "    </tr>\n",
       "    <tr>\n",
       "      <th>4</th>\n",
       "      <td>6314302</td>\n",
       "      <td>Sambo Kojin</td>\n",
       "      <td>162</td>\n",
       "      <td>Mandaluyong City</td>\n",
       "      <td>Third Floor, Mega Atrium, SM Megamall, Ortigas...</td>\n",
       "      <td>SM Megamall, Ortigas, Mandaluyong City</td>\n",
       "      <td>SM Megamall, Ortigas, Mandaluyong City, Mandal...</td>\n",
       "      <td>121.057508</td>\n",
       "      <td>14.584450</td>\n",
       "      <td>Japanese, Korean</td>\n",
       "      <td>...</td>\n",
       "      <td>Botswana Pula(P)</td>\n",
       "      <td>Yes</td>\n",
       "      <td>No</td>\n",
       "      <td>No</td>\n",
       "      <td>No</td>\n",
       "      <td>4</td>\n",
       "      <td>4.8</td>\n",
       "      <td>Dark Green</td>\n",
       "      <td>Excellent</td>\n",
       "      <td>229</td>\n",
       "    </tr>\n",
       "  </tbody>\n",
       "</table>\n",
       "<p>5 rows × 21 columns</p>\n",
       "</div>"
      ],
      "text/plain": [
       "   Restaurant ID         Restaurant Name  Country Code              City  \\\n",
       "0        6317637        Le Petit Souffle           162       Makati City   \n",
       "1        6304287        Izakaya Kikufuji           162       Makati City   \n",
       "2        6300002  Heat - Edsa Shangri-La           162  Mandaluyong City   \n",
       "3        6318506                    Ooma           162  Mandaluyong City   \n",
       "4        6314302             Sambo Kojin           162  Mandaluyong City   \n",
       "\n",
       "                                             Address  \\\n",
       "0  Third Floor, Century City Mall, Kalayaan Avenu...   \n",
       "1  Little Tokyo, 2277 Chino Roces Avenue, Legaspi...   \n",
       "2  Edsa Shangri-La, 1 Garden Way, Ortigas, Mandal...   \n",
       "3  Third Floor, Mega Fashion Hall, SM Megamall, O...   \n",
       "4  Third Floor, Mega Atrium, SM Megamall, Ortigas...   \n",
       "\n",
       "                                     Locality  \\\n",
       "0   Century City Mall, Poblacion, Makati City   \n",
       "1  Little Tokyo, Legaspi Village, Makati City   \n",
       "2  Edsa Shangri-La, Ortigas, Mandaluyong City   \n",
       "3      SM Megamall, Ortigas, Mandaluyong City   \n",
       "4      SM Megamall, Ortigas, Mandaluyong City   \n",
       "\n",
       "                                    Locality Verbose   Longitude   Latitude  \\\n",
       "0  Century City Mall, Poblacion, Makati City, Mak...  121.027535  14.565443   \n",
       "1  Little Tokyo, Legaspi Village, Makati City, Ma...  121.014101  14.553708   \n",
       "2  Edsa Shangri-La, Ortigas, Mandaluyong City, Ma...  121.056831  14.581404   \n",
       "3  SM Megamall, Ortigas, Mandaluyong City, Mandal...  121.056475  14.585318   \n",
       "4  SM Megamall, Ortigas, Mandaluyong City, Mandal...  121.057508  14.584450   \n",
       "\n",
       "                           Cuisines  ...          Currency Has Table booking  \\\n",
       "0        French, Japanese, Desserts  ...  Botswana Pula(P)               Yes   \n",
       "1                          Japanese  ...  Botswana Pula(P)               Yes   \n",
       "2  Seafood, Asian, Filipino, Indian  ...  Botswana Pula(P)               Yes   \n",
       "3                   Japanese, Sushi  ...  Botswana Pula(P)                No   \n",
       "4                  Japanese, Korean  ...  Botswana Pula(P)               Yes   \n",
       "\n",
       "  Has Online delivery Is delivering now Switch to order menu Price range  \\\n",
       "0                  No                No                   No           3   \n",
       "1                  No                No                   No           3   \n",
       "2                  No                No                   No           4   \n",
       "3                  No                No                   No           4   \n",
       "4                  No                No                   No           4   \n",
       "\n",
       "   Aggregate rating  Rating color Rating text Votes  \n",
       "0               4.8    Dark Green   Excellent   314  \n",
       "1               4.5    Dark Green   Excellent   591  \n",
       "2               4.4         Green   Very Good   270  \n",
       "3               4.9    Dark Green   Excellent   365  \n",
       "4               4.8    Dark Green   Excellent   229  \n",
       "\n",
       "[5 rows x 21 columns]"
      ]
     },
     "execution_count": 4,
     "metadata": {},
     "output_type": "execute_result"
    }
   ],
   "source": [
    "df.head()"
   ]
  },
  {
   "cell_type": "code",
   "execution_count": 5,
   "id": "09a3e416",
   "metadata": {},
   "outputs": [
    {
     "data": {
      "text/plain": [
       "Index(['Restaurant ID', 'Restaurant Name', 'Country Code', 'City', 'Address',\n",
       "       'Locality', 'Locality Verbose', 'Longitude', 'Latitude', 'Cuisines',\n",
       "       'Average Cost for two', 'Currency', 'Has Table booking',\n",
       "       'Has Online delivery', 'Is delivering now', 'Switch to order menu',\n",
       "       'Price range', 'Aggregate rating', 'Rating color', 'Rating text',\n",
       "       'Votes'],\n",
       "      dtype='object')"
      ]
     },
     "execution_count": 5,
     "metadata": {},
     "output_type": "execute_result"
    }
   ],
   "source": [
    "df.columns"
   ]
  },
  {
   "cell_type": "code",
   "execution_count": 6,
   "id": "388c71c0",
   "metadata": {},
   "outputs": [
    {
     "name": "stdout",
     "output_type": "stream",
     "text": [
      "<class 'pandas.core.frame.DataFrame'>\n",
      "RangeIndex: 9551 entries, 0 to 9550\n",
      "Data columns (total 21 columns):\n",
      " #   Column                Non-Null Count  Dtype  \n",
      "---  ------                --------------  -----  \n",
      " 0   Restaurant ID         9551 non-null   int64  \n",
      " 1   Restaurant Name       9551 non-null   object \n",
      " 2   Country Code          9551 non-null   int64  \n",
      " 3   City                  9551 non-null   object \n",
      " 4   Address               9551 non-null   object \n",
      " 5   Locality              9551 non-null   object \n",
      " 6   Locality Verbose      9551 non-null   object \n",
      " 7   Longitude             9551 non-null   float64\n",
      " 8   Latitude              9551 non-null   float64\n",
      " 9   Cuisines              9542 non-null   object \n",
      " 10  Average Cost for two  9551 non-null   int64  \n",
      " 11  Currency              9551 non-null   object \n",
      " 12  Has Table booking     9551 non-null   object \n",
      " 13  Has Online delivery   9551 non-null   object \n",
      " 14  Is delivering now     9551 non-null   object \n",
      " 15  Switch to order menu  9551 non-null   object \n",
      " 16  Price range           9551 non-null   int64  \n",
      " 17  Aggregate rating      9551 non-null   float64\n",
      " 18  Rating color          9551 non-null   object \n",
      " 19  Rating text           9551 non-null   object \n",
      " 20  Votes                 9551 non-null   int64  \n",
      "dtypes: float64(3), int64(5), object(13)\n",
      "memory usage: 1.5+ MB\n"
     ]
    }
   ],
   "source": [
    "df.info()"
   ]
  },
  {
   "cell_type": "code",
   "execution_count": 7,
   "id": "1fc78829",
   "metadata": {},
   "outputs": [
    {
     "data": {
      "text/html": [
       "<div>\n",
       "<style scoped>\n",
       "    .dataframe tbody tr th:only-of-type {\n",
       "        vertical-align: middle;\n",
       "    }\n",
       "\n",
       "    .dataframe tbody tr th {\n",
       "        vertical-align: top;\n",
       "    }\n",
       "\n",
       "    .dataframe thead th {\n",
       "        text-align: right;\n",
       "    }\n",
       "</style>\n",
       "<table border=\"1\" class=\"dataframe\">\n",
       "  <thead>\n",
       "    <tr style=\"text-align: right;\">\n",
       "      <th></th>\n",
       "      <th>Restaurant ID</th>\n",
       "      <th>Country Code</th>\n",
       "      <th>Longitude</th>\n",
       "      <th>Latitude</th>\n",
       "      <th>Average Cost for two</th>\n",
       "      <th>Price range</th>\n",
       "      <th>Aggregate rating</th>\n",
       "      <th>Votes</th>\n",
       "    </tr>\n",
       "  </thead>\n",
       "  <tbody>\n",
       "    <tr>\n",
       "      <th>count</th>\n",
       "      <td>9.551000e+03</td>\n",
       "      <td>9551.000000</td>\n",
       "      <td>9551.000000</td>\n",
       "      <td>9551.000000</td>\n",
       "      <td>9551.000000</td>\n",
       "      <td>9551.000000</td>\n",
       "      <td>9551.000000</td>\n",
       "      <td>9551.000000</td>\n",
       "    </tr>\n",
       "    <tr>\n",
       "      <th>mean</th>\n",
       "      <td>9.051128e+06</td>\n",
       "      <td>18.365616</td>\n",
       "      <td>64.126574</td>\n",
       "      <td>25.854381</td>\n",
       "      <td>1199.210763</td>\n",
       "      <td>1.804837</td>\n",
       "      <td>2.666370</td>\n",
       "      <td>156.909748</td>\n",
       "    </tr>\n",
       "    <tr>\n",
       "      <th>std</th>\n",
       "      <td>8.791521e+06</td>\n",
       "      <td>56.750546</td>\n",
       "      <td>41.467058</td>\n",
       "      <td>11.007935</td>\n",
       "      <td>16121.183073</td>\n",
       "      <td>0.905609</td>\n",
       "      <td>1.516378</td>\n",
       "      <td>430.169145</td>\n",
       "    </tr>\n",
       "    <tr>\n",
       "      <th>min</th>\n",
       "      <td>5.300000e+01</td>\n",
       "      <td>1.000000</td>\n",
       "      <td>-157.948486</td>\n",
       "      <td>-41.330428</td>\n",
       "      <td>0.000000</td>\n",
       "      <td>1.000000</td>\n",
       "      <td>0.000000</td>\n",
       "      <td>0.000000</td>\n",
       "    </tr>\n",
       "    <tr>\n",
       "      <th>25%</th>\n",
       "      <td>3.019625e+05</td>\n",
       "      <td>1.000000</td>\n",
       "      <td>77.081343</td>\n",
       "      <td>28.478713</td>\n",
       "      <td>250.000000</td>\n",
       "      <td>1.000000</td>\n",
       "      <td>2.500000</td>\n",
       "      <td>5.000000</td>\n",
       "    </tr>\n",
       "    <tr>\n",
       "      <th>50%</th>\n",
       "      <td>6.004089e+06</td>\n",
       "      <td>1.000000</td>\n",
       "      <td>77.191964</td>\n",
       "      <td>28.570469</td>\n",
       "      <td>400.000000</td>\n",
       "      <td>2.000000</td>\n",
       "      <td>3.200000</td>\n",
       "      <td>31.000000</td>\n",
       "    </tr>\n",
       "    <tr>\n",
       "      <th>75%</th>\n",
       "      <td>1.835229e+07</td>\n",
       "      <td>1.000000</td>\n",
       "      <td>77.282006</td>\n",
       "      <td>28.642758</td>\n",
       "      <td>700.000000</td>\n",
       "      <td>2.000000</td>\n",
       "      <td>3.700000</td>\n",
       "      <td>131.000000</td>\n",
       "    </tr>\n",
       "    <tr>\n",
       "      <th>max</th>\n",
       "      <td>1.850065e+07</td>\n",
       "      <td>216.000000</td>\n",
       "      <td>174.832089</td>\n",
       "      <td>55.976980</td>\n",
       "      <td>800000.000000</td>\n",
       "      <td>4.000000</td>\n",
       "      <td>4.900000</td>\n",
       "      <td>10934.000000</td>\n",
       "    </tr>\n",
       "  </tbody>\n",
       "</table>\n",
       "</div>"
      ],
      "text/plain": [
       "       Restaurant ID  Country Code    Longitude     Latitude  \\\n",
       "count   9.551000e+03   9551.000000  9551.000000  9551.000000   \n",
       "mean    9.051128e+06     18.365616    64.126574    25.854381   \n",
       "std     8.791521e+06     56.750546    41.467058    11.007935   \n",
       "min     5.300000e+01      1.000000  -157.948486   -41.330428   \n",
       "25%     3.019625e+05      1.000000    77.081343    28.478713   \n",
       "50%     6.004089e+06      1.000000    77.191964    28.570469   \n",
       "75%     1.835229e+07      1.000000    77.282006    28.642758   \n",
       "max     1.850065e+07    216.000000   174.832089    55.976980   \n",
       "\n",
       "       Average Cost for two  Price range  Aggregate rating         Votes  \n",
       "count           9551.000000  9551.000000       9551.000000   9551.000000  \n",
       "mean            1199.210763     1.804837          2.666370    156.909748  \n",
       "std            16121.183073     0.905609          1.516378    430.169145  \n",
       "min                0.000000     1.000000          0.000000      0.000000  \n",
       "25%              250.000000     1.000000          2.500000      5.000000  \n",
       "50%              400.000000     2.000000          3.200000     31.000000  \n",
       "75%              700.000000     2.000000          3.700000    131.000000  \n",
       "max           800000.000000     4.000000          4.900000  10934.000000  "
      ]
     },
     "execution_count": 7,
     "metadata": {},
     "output_type": "execute_result"
    }
   ],
   "source": [
    "df.describe()"
   ]
  },
  {
   "cell_type": "markdown",
   "id": "bdfd27ad",
   "metadata": {},
   "source": [
    "# In data analysis what all things we do\n",
    "\n",
    "1) missing values  \n",
    "2) explore about the numeical variables  \n",
    "3) explore about categorical variables  \n",
    "4) fiding relationship between features  \n"
   ]
  },
  {
   "cell_type": "code",
   "execution_count": 10,
   "id": "8afeedf6",
   "metadata": {},
   "outputs": [
    {
     "data": {
      "text/plain": [
       "Restaurant ID           0\n",
       "Restaurant Name         0\n",
       "Country Code            0\n",
       "City                    0\n",
       "Address                 0\n",
       "Locality                0\n",
       "Locality Verbose        0\n",
       "Longitude               0\n",
       "Latitude                0\n",
       "Cuisines                9\n",
       "Average Cost for two    0\n",
       "Currency                0\n",
       "Has Table booking       0\n",
       "Has Online delivery     0\n",
       "Is delivering now       0\n",
       "Switch to order menu    0\n",
       "Price range             0\n",
       "Aggregate rating        0\n",
       "Rating color            0\n",
       "Rating text             0\n",
       "Votes                   0\n",
       "dtype: int64"
      ]
     },
     "execution_count": 10,
     "metadata": {},
     "output_type": "execute_result"
    }
   ],
   "source": [
    "df.isnull().sum()"
   ]
  },
  {
   "cell_type": "code",
   "execution_count": null,
   "id": "230d62e2",
   "metadata": {},
   "outputs": [],
   "source": []
  },
  {
   "cell_type": "code",
   "execution_count": 13,
   "id": "7193d2c3",
   "metadata": {},
   "outputs": [
    {
     "data": {
      "text/plain": [
       "['Cuisines']"
      ]
     },
     "execution_count": 13,
     "metadata": {},
     "output_type": "execute_result"
    }
   ],
   "source": [
    "[features for features in df.columns if df[features].isnull().sum()>0]"
   ]
  },
  {
   "cell_type": "code",
   "execution_count": 83,
   "id": "c45793fc",
   "metadata": {},
   "outputs": [
    {
     "data": {
      "text/plain": [
       "<AxesSubplot:>"
      ]
     },
     "execution_count": 83,
     "metadata": {},
     "output_type": "execute_result"
    },
    {
     "data": {
      "image/png": "[encoded data removed]",
      "text/plain": [
       "<Figure size 864x432 with 1 Axes>"
      ]
     },
     "metadata": {
      "needs_background": "light"
     },
     "output_type": "display_data"
    }
   ],
   "source": [
    "sns.heatmap(df.isnull(),yticklabels=False,cbar=False,cmap='viridis')"
   ]
  },
  {
   "cell_type": "markdown",
   "id": "1bab7c5e",
   "metadata": {},
   "source": [
    "so here we have 9 missing values in cuisines column so lets handle them  "
   ]
  },
  {
   "cell_type": "code",
   "execution_count": null,
   "id": "bebe6859",
   "metadata": {},
   "outputs": [],
   "source": []
  },
  {
   "cell_type": "code",
   "execution_count": 20,
   "id": "2fed8e4f",
   "metadata": {},
   "outputs": [
    {
     "data": {
      "text/html": [
       "<div>\n",
       "<style scoped>\n",
       "    .dataframe tbody tr th:only-of-type {\n",
       "        vertical-align: middle;\n",
       "    }\n",
       "\n",
       "    .dataframe tbody tr th {\n",
       "        vertical-align: top;\n",
       "    }\n",
       "\n",
       "    .dataframe thead th {\n",
       "        text-align: right;\n",
       "    }\n",
       "</style>\n",
       "<table border=\"1\" class=\"dataframe\">\n",
       "  <thead>\n",
       "    <tr style=\"text-align: right;\">\n",
       "      <th></th>\n",
       "      <th>Country Code</th>\n",
       "      <th>Country</th>\n",
       "    </tr>\n",
       "  </thead>\n",
       "  <tbody>\n",
       "    <tr>\n",
       "      <th>0</th>\n",
       "      <td>1</td>\n",
       "      <td>India</td>\n",
       "    </tr>\n",
       "    <tr>\n",
       "      <th>1</th>\n",
       "      <td>14</td>\n",
       "      <td>Australia</td>\n",
       "    </tr>\n",
       "    <tr>\n",
       "      <th>2</th>\n",
       "      <td>30</td>\n",
       "      <td>Brazil</td>\n",
       "    </tr>\n",
       "    <tr>\n",
       "      <th>3</th>\n",
       "      <td>37</td>\n",
       "      <td>Canada</td>\n",
       "    </tr>\n",
       "    <tr>\n",
       "      <th>4</th>\n",
       "      <td>94</td>\n",
       "      <td>Indonesia</td>\n",
       "    </tr>\n",
       "  </tbody>\n",
       "</table>\n",
       "</div>"
      ],
      "text/plain": [
       "   Country Code    Country\n",
       "0             1      India\n",
       "1            14  Australia\n",
       "2            30     Brazil\n",
       "3            37     Canada\n",
       "4            94  Indonesia"
      ]
     },
     "execution_count": 20,
     "metadata": {},
     "output_type": "execute_result"
    }
   ],
   "source": [
    "df_country = pd.read_excel('Country-Code.xlsx')\n",
    "df_country.head()"
   ]
  },
  {
   "cell_type": "code",
   "execution_count": null,
   "id": "8da12e4c",
   "metadata": {},
   "outputs": [],
   "source": []
  },
  {
   "cell_type": "code",
   "execution_count": 23,
   "id": "49431be2",
   "metadata": {},
   "outputs": [],
   "source": [
    "final_df = pd.merge(df,df_country,on='Country Code',how ='left')"
   ]
  },
  {
   "cell_type": "code",
   "execution_count": 24,
   "id": "49056093",
   "metadata": {},
   "outputs": [
    {
     "data": {
      "text/html": [
       "<div>\n",
       "<style scoped>\n",
       "    .dataframe tbody tr th:only-of-type {\n",
       "        vertical-align: middle;\n",
       "    }\n",
       "\n",
       "    .dataframe tbody tr th {\n",
       "        vertical-align: top;\n",
       "    }\n",
       "\n",
       "    .dataframe thead th {\n",
       "        text-align: right;\n",
       "    }\n",
       "</style>\n",
       "<table border=\"1\" class=\"dataframe\">\n",
       "  <thead>\n",
       "    <tr style=\"text-align: right;\">\n",
       "      <th></th>\n",
       "      <th>Restaurant ID</th>\n",
       "      <th>Restaurant Name</th>\n",
       "      <th>Country Code</th>\n",
       "      <th>City</th>\n",
       "      <th>Address</th>\n",
       "      <th>Locality</th>\n",
       "      <th>Locality Verbose</th>\n",
       "      <th>Longitude</th>\n",
       "      <th>Latitude</th>\n",
       "      <th>Cuisines</th>\n",
       "      <th>...</th>\n",
       "      <th>Has Table booking</th>\n",
       "      <th>Has Online delivery</th>\n",
       "      <th>Is delivering now</th>\n",
       "      <th>Switch to order menu</th>\n",
       "      <th>Price range</th>\n",
       "      <th>Aggregate rating</th>\n",
       "      <th>Rating color</th>\n",
       "      <th>Rating text</th>\n",
       "      <th>Votes</th>\n",
       "      <th>Country</th>\n",
       "    </tr>\n",
       "  </thead>\n",
       "  <tbody>\n",
       "    <tr>\n",
       "      <th>0</th>\n",
       "      <td>6317637</td>\n",
       "      <td>Le Petit Souffle</td>\n",
       "      <td>162</td>\n",
       "      <td>Makati City</td>\n",
       "      <td>Third Floor, Century City Mall, Kalayaan Avenu...</td>\n",
       "      <td>Century City Mall, Poblacion, Makati City</td>\n",
       "      <td>Century City Mall, Poblacion, Makati City, Mak...</td>\n",
       "      <td>121.027535</td>\n",
       "      <td>14.565443</td>\n",
       "      <td>French, Japanese, Desserts</td>\n",
       "      <td>...</td>\n",
       "      <td>Yes</td>\n",
       "      <td>No</td>\n",
       "      <td>No</td>\n",
       "      <td>No</td>\n",
       "      <td>3</td>\n",
       "      <td>4.8</td>\n",
       "      <td>Dark Green</td>\n",
       "      <td>Excellent</td>\n",
       "      <td>314</td>\n",
       "      <td>Phillipines</td>\n",
       "    </tr>\n",
       "    <tr>\n",
       "      <th>1</th>\n",
       "      <td>6304287</td>\n",
       "      <td>Izakaya Kikufuji</td>\n",
       "      <td>162</td>\n",
       "      <td>Makati City</td>\n",
       "      <td>Little Tokyo, 2277 Chino Roces Avenue, Legaspi...</td>\n",
       "      <td>Little Tokyo, Legaspi Village, Makati City</td>\n",
       "      <td>Little Tokyo, Legaspi Village, Makati City, Ma...</td>\n",
       "      <td>121.014101</td>\n",
       "      <td>14.553708</td>\n",
       "      <td>Japanese</td>\n",
       "      <td>...</td>\n",
       "      <td>Yes</td>\n",
       "      <td>No</td>\n",
       "      <td>No</td>\n",
       "      <td>No</td>\n",
       "      <td>3</td>\n",
       "      <td>4.5</td>\n",
       "      <td>Dark Green</td>\n",
       "      <td>Excellent</td>\n",
       "      <td>591</td>\n",
       "      <td>Phillipines</td>\n",
       "    </tr>\n",
       "  </tbody>\n",
       "</table>\n",
       "<p>2 rows × 22 columns</p>\n",
       "</div>"
      ],
      "text/plain": [
       "   Restaurant ID   Restaurant Name  Country Code         City  \\\n",
       "0        6317637  Le Petit Souffle           162  Makati City   \n",
       "1        6304287  Izakaya Kikufuji           162  Makati City   \n",
       "\n",
       "                                             Address  \\\n",
       "0  Third Floor, Century City Mall, Kalayaan Avenu...   \n",
       "1  Little Tokyo, 2277 Chino Roces Avenue, Legaspi...   \n",
       "\n",
       "                                     Locality  \\\n",
       "0   Century City Mall, Poblacion, Makati City   \n",
       "1  Little Tokyo, Legaspi Village, Makati City   \n",
       "\n",
       "                                    Locality Verbose   Longitude   Latitude  \\\n",
       "0  Century City Mall, Poblacion, Makati City, Mak...  121.027535  14.565443   \n",
       "1  Little Tokyo, Legaspi Village, Makati City, Ma...  121.014101  14.553708   \n",
       "\n",
       "                     Cuisines  ...  Has Table booking Has Online delivery  \\\n",
       "0  French, Japanese, Desserts  ...                Yes                  No   \n",
       "1                    Japanese  ...                Yes                  No   \n",
       "\n",
       "  Is delivering now Switch to order menu Price range Aggregate rating  \\\n",
       "0                No                   No           3              4.8   \n",
       "1                No                   No           3              4.5   \n",
       "\n",
       "   Rating color  Rating text Votes      Country  \n",
       "0    Dark Green    Excellent   314  Phillipines  \n",
       "1    Dark Green    Excellent   591  Phillipines  \n",
       "\n",
       "[2 rows x 22 columns]"
      ]
     },
     "execution_count": 24,
     "metadata": {},
     "output_type": "execute_result"
    }
   ],
   "source": [
    "final_df.head(2)"
   ]
  },
  {
   "cell_type": "code",
   "execution_count": null,
   "id": "45b3519c",
   "metadata": {},
   "outputs": [],
   "source": []
  },
  {
   "cell_type": "code",
   "execution_count": 25,
   "id": "70f90de1",
   "metadata": {},
   "outputs": [],
   "source": [
    "#check data types"
   ]
  },
  {
   "cell_type": "code",
   "execution_count": 27,
   "id": "7c83b95b",
   "metadata": {},
   "outputs": [
    {
     "data": {
      "text/plain": [
       "Restaurant ID             int64\n",
       "Restaurant Name          object\n",
       "Country Code              int64\n",
       "City                     object\n",
       "Address                  object\n",
       "Locality                 object\n",
       "Locality Verbose         object\n",
       "Longitude               float64\n",
       "Latitude                float64\n",
       "Cuisines                 object\n",
       "Average Cost for two      int64\n",
       "Currency                 object\n",
       "Has Table booking        object\n",
       "Has Online delivery      object\n",
       "Is delivering now        object\n",
       "Switch to order menu     object\n",
       "Price range               int64\n",
       "Aggregate rating        float64\n",
       "Rating color             object\n",
       "Rating text              object\n",
       "Votes                     int64\n",
       "Country                  object\n",
       "dtype: object"
      ]
     },
     "execution_count": 27,
     "metadata": {},
     "output_type": "execute_result"
    }
   ],
   "source": [
    "final_df.dtypes"
   ]
  },
  {
   "cell_type": "code",
   "execution_count": null,
   "id": "5f9856a1",
   "metadata": {},
   "outputs": [],
   "source": []
  },
  {
   "cell_type": "code",
   "execution_count": 29,
   "id": "b1c2d494",
   "metadata": {},
   "outputs": [
    {
     "data": {
      "text/plain": [
       "India             8652\n",
       "United States      434\n",
       "United Kingdom      80\n",
       "Brazil              60\n",
       "UAE                 60\n",
       "South Africa        60\n",
       "New Zealand         40\n",
       "Turkey              34\n",
       "Australia           24\n",
       "Phillipines         22\n",
       "Indonesia           21\n",
       "Singapore           20\n",
       "Qatar               20\n",
       "Sri Lanka           20\n",
       "Canada               4\n",
       "Name: Country, dtype: int64"
      ]
     },
     "execution_count": 29,
     "metadata": {},
     "output_type": "execute_result"
    }
   ],
   "source": [
    "#this will give me the total number of values of the unique instance of the column\n",
    "final_df.Country.value_counts()"
   ]
  },
  {
   "cell_type": "code",
   "execution_count": 30,
   "id": "bc8c476f",
   "metadata": {},
   "outputs": [],
   "source": [
    "country_names = final_df.Country.value_counts().index"
   ]
  },
  {
   "cell_type": "code",
   "execution_count": 34,
   "id": "52b4f2d8",
   "metadata": {},
   "outputs": [],
   "source": [
    "country_values = final_df.Country.value_counts().values"
   ]
  },
  {
   "cell_type": "code",
   "execution_count": 36,
   "id": "60e73847",
   "metadata": {},
   "outputs": [
    {
     "data": {
      "text/plain": [
       "([<matplotlib.patches.Wedge at 0x1d837c202e0>,\n",
       "  <matplotlib.patches.Wedge at 0x1d837c206a0>,\n",
       "  <matplotlib.patches.Wedge at 0x1d837c20b80>,\n",
       "  <matplotlib.patches.Wedge at 0x1d837c21060>,\n",
       "  <matplotlib.patches.Wedge at 0x1d837c21540>,\n",
       "  <matplotlib.patches.Wedge at 0x1d837c21a20>,\n",
       "  <matplotlib.patches.Wedge at 0x1d837c21f00>,\n",
       "  <matplotlib.patches.Wedge at 0x1d837c223e0>,\n",
       "  <matplotlib.patches.Wedge at 0x1d837c228c0>,\n",
       "  <matplotlib.patches.Wedge at 0x1d837c22da0>,\n",
       "  <matplotlib.patches.Wedge at 0x1d837c202b0>,\n",
       "  <matplotlib.patches.Wedge at 0x1d837c23730>,\n",
       "  <matplotlib.patches.Wedge at 0x1d837c23c10>,\n",
       "  <matplotlib.patches.Wedge at 0x1d837c44130>,\n",
       "  <matplotlib.patches.Wedge at 0x1d837c44640>],\n",
       " [Text(-1.052256163793291, 0.3205572737577906, 'India'),\n",
       "  Text(0.9911329812843455, -0.477132490415823, 'United States'),\n",
       "  Text(1.0572858296119743, -0.3035567072257165, 'United Kingdom'),\n",
       "  Text(1.070138816916019, -0.2545641619112621, 'Brazil'),\n",
       "  Text(1.0793506814479759, -0.21213699926648824, 'UAE'),\n",
       "  Text(1.086881147244973, -0.16937937230799818, 'South Africa'),\n",
       "  Text(1.0918635911832035, -0.1335436192729486, 'New Zealand'),\n",
       "  Text(1.0947903814016446, -0.10692998078388304, 'Turkey'),\n",
       "  Text(1.096631023945382, -0.08602556201794338, 'Australia'),\n",
       "  Text(1.0978070729776455, -0.06942355882735218, 'Phillipines'),\n",
       "  Text(1.0986791544015209, -0.05388984768543213, 'Indonesia'),\n",
       "  Text(1.0993059848742366, -0.039068550263413035, 'Singapore'),\n",
       "  Text(1.0997248508282123, -0.02460187941736628, 'Qatar'),\n",
       "  Text(1.0999533462179636, -0.010130949802716446, 'Sri Lanka'),\n",
       "  Text(1.0999990477553414, -0.0014473898376707638, 'Canada')])"
      ]
     },
     "execution_count": 36,
     "metadata": {},
     "output_type": "execute_result"
    },
    {
     "data": {
      "image/png": "[encoded data removed]",
      "text/plain": [
       "<Figure size 432x288 with 1 Axes>"
      ]
     },
     "metadata": {},
     "output_type": "display_data"
    }
   ],
   "source": [
    "plt.pie(country_values,labels = country_names)"
   ]
  },
  {
   "cell_type": "code",
   "execution_count": null,
   "id": "b191e0bf",
   "metadata": {},
   "outputs": [],
   "source": []
  },
  {
   "cell_type": "code",
   "execution_count": 45,
   "id": "b3d898b7",
   "metadata": {},
   "outputs": [
    {
     "data": {
      "text/plain": [
       "([<matplotlib.patches.Wedge at 0x1d8385f1570>,\n",
       "  <matplotlib.patches.Wedge at 0x1d8385f1b70>,\n",
       "  <matplotlib.patches.Wedge at 0x1d8385f2290>],\n",
       " [Text(-1.0829742700952103, 0.19278674827836725, 'India'),\n",
       "  Text(1.077281715838356, -0.22240527134123297, 'United States'),\n",
       "  Text(1.0995865153823035, -0.03015783794312073, 'United Kingdom')],\n",
       " [Text(-0.590713238233751, 0.10515640815183668, '94.39%'),\n",
       "  Text(0.5876082086391032, -0.12131196618612707, '4.73%'),\n",
       "  Text(0.5997744629358018, -0.01644972978715676, '0.87%')])"
      ]
     },
     "execution_count": 45,
     "metadata": {},
     "output_type": "execute_result"
    },
    {
     "data": {
      "image/png": "[encoded data removed]",
      "text/plain": [
       "<Figure size 432x288 with 1 Axes>"
      ]
     },
     "metadata": {},
     "output_type": "display_data"
    }
   ],
   "source": [
    "#the chart looks really conjusted so lets try to plot this thing only for top three counties\n",
    "plt.pie(country_values[:3],labels = country_names[:3],autopct='%1.2f%%')"
   ]
  },
  {
   "cell_type": "markdown",
   "id": "a435f584",
   "metadata": {},
   "source": [
    "Observation: Zomato maximum records are from india  \n",
    " After that USA and then United Kingdom"
   ]
  },
  {
   "cell_type": "code",
   "execution_count": null,
   "id": "72901d82",
   "metadata": {},
   "outputs": [],
   "source": []
  },
  {
   "cell_type": "code",
   "execution_count": 50,
   "id": "c8526dbb",
   "metadata": {},
   "outputs": [],
   "source": [
    "ratings = final_df.groupby(['Aggregate rating','Rating color','Rating text']).size().reset_index().rename(columns={0:'Rating Count'})"
   ]
  },
  {
   "cell_type": "code",
   "execution_count": 51,
   "id": "0cafa54d",
   "metadata": {
    "scrolled": true
   },
   "outputs": [
    {
     "data": {
      "text/html": [
       "<div>\n",
       "<style scoped>\n",
       "    .dataframe tbody tr th:only-of-type {\n",
       "        vertical-align: middle;\n",
       "    }\n",
       "\n",
       "    .dataframe tbody tr th {\n",
       "        vertical-align: top;\n",
       "    }\n",
       "\n",
       "    .dataframe thead th {\n",
       "        text-align: right;\n",
       "    }\n",
       "</style>\n",
       "<table border=\"1\" class=\"dataframe\">\n",
       "  <thead>\n",
       "    <tr style=\"text-align: right;\">\n",
       "      <th></th>\n",
       "      <th>Aggregate rating</th>\n",
       "      <th>Rating color</th>\n",
       "      <th>Rating text</th>\n",
       "      <th>Rating Count</th>\n",
       "    </tr>\n",
       "  </thead>\n",
       "  <tbody>\n",
       "    <tr>\n",
       "      <th>0</th>\n",
       "      <td>0.0</td>\n",
       "      <td>White</td>\n",
       "      <td>Not rated</td>\n",
       "      <td>2148</td>\n",
       "    </tr>\n",
       "    <tr>\n",
       "      <th>1</th>\n",
       "      <td>1.8</td>\n",
       "      <td>Red</td>\n",
       "      <td>Poor</td>\n",
       "      <td>1</td>\n",
       "    </tr>\n",
       "    <tr>\n",
       "      <th>2</th>\n",
       "      <td>1.9</td>\n",
       "      <td>Red</td>\n",
       "      <td>Poor</td>\n",
       "      <td>2</td>\n",
       "    </tr>\n",
       "    <tr>\n",
       "      <th>3</th>\n",
       "      <td>2.0</td>\n",
       "      <td>Red</td>\n",
       "      <td>Poor</td>\n",
       "      <td>7</td>\n",
       "    </tr>\n",
       "    <tr>\n",
       "      <th>4</th>\n",
       "      <td>2.1</td>\n",
       "      <td>Red</td>\n",
       "      <td>Poor</td>\n",
       "      <td>15</td>\n",
       "    </tr>\n",
       "  </tbody>\n",
       "</table>\n",
       "</div>"
      ],
      "text/plain": [
       "   Aggregate rating Rating color Rating text  Rating Count\n",
       "0               0.0        White   Not rated          2148\n",
       "1               1.8          Red        Poor             1\n",
       "2               1.9          Red        Poor             2\n",
       "3               2.0          Red        Poor             7\n",
       "4               2.1          Red        Poor            15"
      ]
     },
     "execution_count": 51,
     "metadata": {},
     "output_type": "execute_result"
    }
   ],
   "source": [
    "ratings.head()"
   ]
  },
  {
   "cell_type": "raw",
   "id": "6a27a14f",
   "metadata": {},
   "source": []
  },
  {
   "cell_type": "markdown",
   "id": "090b80ce",
   "metadata": {},
   "source": [
    "## Obsetvation\n",
    "1) When the rating is between 4.5 to 4.9 -----> Excellent  \n",
    "2) When rating is between 4.0 to 4.4 ------> very good\n",
    "3) when rating is between 3.5-3.9 ----> good  \n",
    "4) when rating is between 3.0-3.4 ----> average \n",
    "5) when rating is between 2.5-2.9 ----> below average\n",
    ".."
   ]
  },
  {
   "cell_type": "code",
   "execution_count": 56,
   "id": "da6e5914",
   "metadata": {},
   "outputs": [
    {
     "data": {
      "text/plain": [
       "<AxesSubplot:xlabel='Aggregate rating', ylabel='Rating Count'>"
      ]
     },
     "execution_count": 56,
     "metadata": {},
     "output_type": "execute_result"
    },
    {
     "data": {
      "image/png": "[encoded data removed]",
      "text/plain": [
       "<Figure size 864x432 with 1 Axes>"
      ]
     },
     "metadata": {
      "needs_background": "light"
     },
     "output_type": "display_data"
    }
   ],
   "source": [
    "import matplotlib\n",
    "matplotlib.rcParams['figure.figsize'] = (12,6)\n",
    "sns.barplot(x='Aggregate rating',y='Rating Count',hue='Rating color',data = ratings,palette=['white','red','orange','yellow','green','green'])"
   ]
  },
  {
   "cell_type": "markdown",
   "id": "283fb71e",
   "metadata": {},
   "source": [
    "Observation:  \n",
    "1) Not rated count is very high   \n",
    "2) maximum number of rating are between 2.5 to 3.4"
   ]
  },
  {
   "cell_type": "code",
   "execution_count": null,
   "id": "3073cc4e",
   "metadata": {},
   "outputs": [],
   "source": []
  },
  {
   "cell_type": "code",
   "execution_count": 57,
   "id": "bb7589d3",
   "metadata": {},
   "outputs": [
    {
     "data": {
      "text/plain": [
       "<AxesSubplot:xlabel='Rating color', ylabel='count'>"
      ]
     },
     "execution_count": 57,
     "metadata": {},
     "output_type": "execute_result"
    },
    {
     "data": {
      "image/png": "[encoded data removed]",
      "text/plain": [
       "<Figure size 864x432 with 1 Axes>"
      ]
     },
     "metadata": {
      "needs_background": "light"
     },
     "output_type": "display_data"
    }
   ],
   "source": [
    "#Count Plot\n",
    "\n",
    "sns.countplot(x='Rating color',data = ratings,palette =['white','red','orange','yellow','green','green'] )"
   ]
  },
  {
   "cell_type": "code",
   "execution_count": null,
   "id": "8cf1177a",
   "metadata": {},
   "outputs": [],
   "source": []
  },
  {
   "cell_type": "code",
   "execution_count": 60,
   "id": "4d0a791f",
   "metadata": {},
   "outputs": [
    {
     "data": {
      "text/html": [
       "<div>\n",
       "<style scoped>\n",
       "    .dataframe tbody tr th:only-of-type {\n",
       "        vertical-align: middle;\n",
       "    }\n",
       "\n",
       "    .dataframe tbody tr th {\n",
       "        vertical-align: top;\n",
       "    }\n",
       "\n",
       "    .dataframe thead th {\n",
       "        text-align: right;\n",
       "    }\n",
       "</style>\n",
       "<table border=\"1\" class=\"dataframe\">\n",
       "  <thead>\n",
       "    <tr style=\"text-align: right;\">\n",
       "      <th></th>\n",
       "      <th>Country</th>\n",
       "      <th>0</th>\n",
       "    </tr>\n",
       "  </thead>\n",
       "  <tbody>\n",
       "    <tr>\n",
       "      <th>0</th>\n",
       "      <td>Brazil</td>\n",
       "      <td>5</td>\n",
       "    </tr>\n",
       "    <tr>\n",
       "      <th>1</th>\n",
       "      <td>India</td>\n",
       "      <td>2139</td>\n",
       "    </tr>\n",
       "    <tr>\n",
       "      <th>2</th>\n",
       "      <td>United Kingdom</td>\n",
       "      <td>1</td>\n",
       "    </tr>\n",
       "    <tr>\n",
       "      <th>3</th>\n",
       "      <td>United States</td>\n",
       "      <td>3</td>\n",
       "    </tr>\n",
       "  </tbody>\n",
       "</table>\n",
       "</div>"
      ],
      "text/plain": [
       "          Country     0\n",
       "0          Brazil     5\n",
       "1           India  2139\n",
       "2  United Kingdom     1\n",
       "3   United States     3"
      ]
     },
     "execution_count": 60,
     "metadata": {},
     "output_type": "execute_result"
    }
   ],
   "source": [
    "# find the countries that has given 0 rating\n",
    "final_df[final_df['Rating color']=='White'].groupby('Country').size().reset_index()"
   ]
  },
  {
   "cell_type": "markdown",
   "id": "bf7b1b44",
   "metadata": {},
   "source": [
    "Observations:  \n",
    "Maximum number of 0 ratings are from Indian customers  \n",
    "Minimum number of 0 ratings are from United Kingdom"
   ]
  },
  {
   "cell_type": "code",
   "execution_count": null,
   "id": "e3dd7d16",
   "metadata": {},
   "outputs": [],
   "source": []
  },
  {
   "cell_type": "code",
   "execution_count": 86,
   "id": "5d0d72d9",
   "metadata": {},
   "outputs": [
    {
     "data": {
      "text/html": [
       "<div>\n",
       "<style scoped>\n",
       "    .dataframe tbody tr th:only-of-type {\n",
       "        vertical-align: middle;\n",
       "    }\n",
       "\n",
       "    .dataframe tbody tr th {\n",
       "        vertical-align: top;\n",
       "    }\n",
       "\n",
       "    .dataframe thead th {\n",
       "        text-align: right;\n",
       "    }\n",
       "</style>\n",
       "<table border=\"1\" class=\"dataframe\">\n",
       "  <thead>\n",
       "    <tr style=\"text-align: right;\">\n",
       "      <th></th>\n",
       "      <th>Country</th>\n",
       "      <th>Currency</th>\n",
       "      <th>0</th>\n",
       "    </tr>\n",
       "  </thead>\n",
       "  <tbody>\n",
       "    <tr>\n",
       "      <th>0</th>\n",
       "      <td>Australia</td>\n",
       "      <td>Dollar($)</td>\n",
       "      <td>24</td>\n",
       "    </tr>\n",
       "    <tr>\n",
       "      <th>1</th>\n",
       "      <td>Brazil</td>\n",
       "      <td>Brazilian Real(R$)</td>\n",
       "      <td>60</td>\n",
       "    </tr>\n",
       "    <tr>\n",
       "      <th>2</th>\n",
       "      <td>Canada</td>\n",
       "      <td>Dollar($)</td>\n",
       "      <td>4</td>\n",
       "    </tr>\n",
       "    <tr>\n",
       "      <th>3</th>\n",
       "      <td>India</td>\n",
       "      <td>Indian Rupees(Rs.)</td>\n",
       "      <td>8652</td>\n",
       "    </tr>\n",
       "    <tr>\n",
       "      <th>4</th>\n",
       "      <td>Indonesia</td>\n",
       "      <td>Indonesian Rupiah(IDR)</td>\n",
       "      <td>21</td>\n",
       "    </tr>\n",
       "    <tr>\n",
       "      <th>5</th>\n",
       "      <td>New Zealand</td>\n",
       "      <td>NewZealand($)</td>\n",
       "      <td>40</td>\n",
       "    </tr>\n",
       "    <tr>\n",
       "      <th>6</th>\n",
       "      <td>Phillipines</td>\n",
       "      <td>Botswana Pula(P)</td>\n",
       "      <td>22</td>\n",
       "    </tr>\n",
       "    <tr>\n",
       "      <th>7</th>\n",
       "      <td>Qatar</td>\n",
       "      <td>Qatari Rial(QR)</td>\n",
       "      <td>20</td>\n",
       "    </tr>\n",
       "    <tr>\n",
       "      <th>8</th>\n",
       "      <td>Singapore</td>\n",
       "      <td>Dollar($)</td>\n",
       "      <td>20</td>\n",
       "    </tr>\n",
       "    <tr>\n",
       "      <th>9</th>\n",
       "      <td>South Africa</td>\n",
       "      <td>Rand(R)</td>\n",
       "      <td>60</td>\n",
       "    </tr>\n",
       "    <tr>\n",
       "      <th>10</th>\n",
       "      <td>Sri Lanka</td>\n",
       "      <td>Sri Lankan Rupee(LKR)</td>\n",
       "      <td>20</td>\n",
       "    </tr>\n",
       "    <tr>\n",
       "      <th>11</th>\n",
       "      <td>Turkey</td>\n",
       "      <td>Turkish Lira(TL)</td>\n",
       "      <td>34</td>\n",
       "    </tr>\n",
       "    <tr>\n",
       "      <th>12</th>\n",
       "      <td>UAE</td>\n",
       "      <td>Emirati Diram(AED)</td>\n",
       "      <td>60</td>\n",
       "    </tr>\n",
       "    <tr>\n",
       "      <th>13</th>\n",
       "      <td>United Kingdom</td>\n",
       "      <td>Pounds(£)</td>\n",
       "      <td>80</td>\n",
       "    </tr>\n",
       "    <tr>\n",
       "      <th>14</th>\n",
       "      <td>United States</td>\n",
       "      <td>Dollar($)</td>\n",
       "      <td>434</td>\n",
       "    </tr>\n",
       "  </tbody>\n",
       "</table>\n",
       "</div>"
      ],
      "text/plain": [
       "           Country                Currency     0\n",
       "0        Australia               Dollar($)    24\n",
       "1           Brazil      Brazilian Real(R$)    60\n",
       "2           Canada               Dollar($)     4\n",
       "3            India      Indian Rupees(Rs.)  8652\n",
       "4        Indonesia  Indonesian Rupiah(IDR)    21\n",
       "5      New Zealand           NewZealand($)    40\n",
       "6      Phillipines        Botswana Pula(P)    22\n",
       "7            Qatar         Qatari Rial(QR)    20\n",
       "8        Singapore               Dollar($)    20\n",
       "9     South Africa                 Rand(R)    60\n",
       "10       Sri Lanka   Sri Lankan Rupee(LKR)    20\n",
       "11          Turkey        Turkish Lira(TL)    34\n",
       "12             UAE      Emirati Diram(AED)    60\n",
       "13  United Kingdom              Pounds(£)    80\n",
       "14   United States               Dollar($)   434"
      ]
     },
     "execution_count": 86,
     "metadata": {},
     "output_type": "execute_result"
    }
   ],
   "source": [
    "##find out which currency is used by which country\n",
    "final_df.groupby(['Country','Currency']).size().reset_index()"
   ]
  },
  {
   "cell_type": "code",
   "execution_count": 62,
   "id": "1a5482d5",
   "metadata": {},
   "outputs": [
    {
     "data": {
      "text/plain": [
       "Index(['Restaurant ID', 'Restaurant Name', 'Country Code', 'City', 'Address',\n",
       "       'Locality', 'Locality Verbose', 'Longitude', 'Latitude', 'Cuisines',\n",
       "       'Average Cost for two', 'Currency', 'Has Table booking',\n",
       "       'Has Online delivery', 'Is delivering now', 'Switch to order menu',\n",
       "       'Price range', 'Aggregate rating', 'Rating color', 'Rating text',\n",
       "       'Votes'],\n",
       "      dtype='object')"
      ]
     },
     "execution_count": 62,
     "metadata": {},
     "output_type": "execute_result"
    }
   ],
   "source": [
    "df.columns"
   ]
  },
  {
   "cell_type": "code",
   "execution_count": 63,
   "id": "e8d9508b",
   "metadata": {},
   "outputs": [
    {
     "data": {
      "text/html": [
       "<div>\n",
       "<style scoped>\n",
       "    .dataframe tbody tr th:only-of-type {\n",
       "        vertical-align: middle;\n",
       "    }\n",
       "\n",
       "    .dataframe tbody tr th {\n",
       "        vertical-align: top;\n",
       "    }\n",
       "\n",
       "    .dataframe thead th {\n",
       "        text-align: right;\n",
       "    }\n",
       "</style>\n",
       "<table border=\"1\" class=\"dataframe\">\n",
       "  <thead>\n",
       "    <tr style=\"text-align: right;\">\n",
       "      <th></th>\n",
       "      <th>Has Online delivery</th>\n",
       "      <th>Country</th>\n",
       "      <th>0</th>\n",
       "    </tr>\n",
       "  </thead>\n",
       "  <tbody>\n",
       "    <tr>\n",
       "      <th>0</th>\n",
       "      <td>No</td>\n",
       "      <td>Australia</td>\n",
       "      <td>24</td>\n",
       "    </tr>\n",
       "    <tr>\n",
       "      <th>1</th>\n",
       "      <td>No</td>\n",
       "      <td>Brazil</td>\n",
       "      <td>60</td>\n",
       "    </tr>\n",
       "    <tr>\n",
       "      <th>2</th>\n",
       "      <td>No</td>\n",
       "      <td>Canada</td>\n",
       "      <td>4</td>\n",
       "    </tr>\n",
       "    <tr>\n",
       "      <th>3</th>\n",
       "      <td>No</td>\n",
       "      <td>India</td>\n",
       "      <td>6229</td>\n",
       "    </tr>\n",
       "    <tr>\n",
       "      <th>4</th>\n",
       "      <td>No</td>\n",
       "      <td>Indonesia</td>\n",
       "      <td>21</td>\n",
       "    </tr>\n",
       "    <tr>\n",
       "      <th>5</th>\n",
       "      <td>No</td>\n",
       "      <td>New Zealand</td>\n",
       "      <td>40</td>\n",
       "    </tr>\n",
       "    <tr>\n",
       "      <th>6</th>\n",
       "      <td>No</td>\n",
       "      <td>Phillipines</td>\n",
       "      <td>22</td>\n",
       "    </tr>\n",
       "    <tr>\n",
       "      <th>7</th>\n",
       "      <td>No</td>\n",
       "      <td>Qatar</td>\n",
       "      <td>20</td>\n",
       "    </tr>\n",
       "    <tr>\n",
       "      <th>8</th>\n",
       "      <td>No</td>\n",
       "      <td>Singapore</td>\n",
       "      <td>20</td>\n",
       "    </tr>\n",
       "    <tr>\n",
       "      <th>9</th>\n",
       "      <td>No</td>\n",
       "      <td>South Africa</td>\n",
       "      <td>60</td>\n",
       "    </tr>\n",
       "    <tr>\n",
       "      <th>10</th>\n",
       "      <td>No</td>\n",
       "      <td>Sri Lanka</td>\n",
       "      <td>20</td>\n",
       "    </tr>\n",
       "    <tr>\n",
       "      <th>11</th>\n",
       "      <td>No</td>\n",
       "      <td>Turkey</td>\n",
       "      <td>34</td>\n",
       "    </tr>\n",
       "    <tr>\n",
       "      <th>12</th>\n",
       "      <td>No</td>\n",
       "      <td>UAE</td>\n",
       "      <td>32</td>\n",
       "    </tr>\n",
       "    <tr>\n",
       "      <th>13</th>\n",
       "      <td>No</td>\n",
       "      <td>United Kingdom</td>\n",
       "      <td>80</td>\n",
       "    </tr>\n",
       "    <tr>\n",
       "      <th>14</th>\n",
       "      <td>No</td>\n",
       "      <td>United States</td>\n",
       "      <td>434</td>\n",
       "    </tr>\n",
       "    <tr>\n",
       "      <th>15</th>\n",
       "      <td>Yes</td>\n",
       "      <td>India</td>\n",
       "      <td>2423</td>\n",
       "    </tr>\n",
       "    <tr>\n",
       "      <th>16</th>\n",
       "      <td>Yes</td>\n",
       "      <td>UAE</td>\n",
       "      <td>28</td>\n",
       "    </tr>\n",
       "  </tbody>\n",
       "</table>\n",
       "</div>"
      ],
      "text/plain": [
       "   Has Online delivery         Country     0\n",
       "0                   No       Australia    24\n",
       "1                   No          Brazil    60\n",
       "2                   No          Canada     4\n",
       "3                   No           India  6229\n",
       "4                   No       Indonesia    21\n",
       "5                   No     New Zealand    40\n",
       "6                   No     Phillipines    22\n",
       "7                   No           Qatar    20\n",
       "8                   No       Singapore    20\n",
       "9                   No    South Africa    60\n",
       "10                  No       Sri Lanka    20\n",
       "11                  No          Turkey    34\n",
       "12                  No             UAE    32\n",
       "13                  No  United Kingdom    80\n",
       "14                  No   United States   434\n",
       "15                 Yes           India  2423\n",
       "16                 Yes             UAE    28"
      ]
     },
     "execution_count": 63,
     "metadata": {},
     "output_type": "execute_result"
    }
   ],
   "source": [
    "# which countries do have online deliveries or not\n",
    "final_df.groupby(['Has Online delivery','Country']).size().reset_index()"
   ]
  },
  {
   "cell_type": "code",
   "execution_count": null,
   "id": "b06b8999",
   "metadata": {},
   "outputs": [],
   "source": []
  },
  {
   "cell_type": "markdown",
   "id": "75753275",
   "metadata": {},
   "source": [
    "Observations  \n",
    "1) Online deleveries are available in india and uae"
   ]
  },
  {
   "cell_type": "code",
   "execution_count": null,
   "id": "fc4977af",
   "metadata": {},
   "outputs": [],
   "source": []
  },
  {
   "cell_type": "code",
   "execution_count": 69,
   "id": "aed8dc8b",
   "metadata": {},
   "outputs": [
    {
     "data": {
      "text/plain": [
       "([<matplotlib.patches.Wedge at 0x1d83b776f50>,\n",
       "  <matplotlib.patches.Wedge at 0x1d83b777670>,\n",
       "  <matplotlib.patches.Wedge at 0x1d83b777d90>,\n",
       "  <matplotlib.patches.Wedge at 0x1d83b7883d0>,\n",
       "  <matplotlib.patches.Wedge at 0x1d83b788af0>],\n",
       " [Text(-0.6145352824185932, 0.9123301960708633, 'New Delhi'),\n",
       "  Text(0.0623675251198054, -1.0982305276263407, 'Gurgaon'),\n",
       "  Text(0.8789045225625368, -0.6614581167535246, 'Noida'),\n",
       "  Text(1.0922218418223437, -0.13058119407559224, 'Faridabad'),\n",
       "  Text(1.099946280005612, -0.010871113182029924, 'Ghaziabad')],\n",
       " [Text(-0.3352010631374145, 0.497634652402289, '68.87%'),\n",
       "  Text(0.0340186500653484, -0.5990348332507311, '14.07%'),\n",
       "  Text(0.47940246685229276, -0.36079533641101336, '13.59%'),\n",
       "  Text(0.5957573682667329, -0.07122610585941394, '3.16%'),\n",
       "  Text(0.5999706981848791, -0.005929698099289049, '0.31%')])"
      ]
     },
     "execution_count": 69,
     "metadata": {},
     "output_type": "execute_result"
    },
    {
     "data": {
      "image/png": "[encoded data removed]",
      "text/plain": [
       "<Figure size 864x432 with 1 Axes>"
      ]
     },
     "metadata": {},
     "output_type": "display_data"
    }
   ],
   "source": [
    "## create a pie chart for cities distributions\n",
    "city_values = final_df.City.value_counts().values\n",
    "city_lables = final_df.City.value_counts().index\n",
    "plt.pie(city_values[:5],labels=city_lables[:5],autopct='%1.2f%%')"
   ]
  },
  {
   "cell_type": "code",
   "execution_count": 92,
   "id": "5553581d",
   "metadata": {},
   "outputs": [
    {
     "data": {
      "text/plain": [
       "North Indian                      936\n",
       "North Indian, Chinese             511\n",
       "Chinese                           354\n",
       "Fast Food                         354\n",
       "North Indian, Mughlai             334\n",
       "Cafe                              299\n",
       "Bakery                            218\n",
       "North Indian, Mughlai, Chinese    197\n",
       "Bakery, Desserts                  170\n",
       "Street Food                       149\n",
       "Name: Cuisines, dtype: int64"
      ]
     },
     "execution_count": 92,
     "metadata": {},
     "output_type": "execute_result"
    }
   ],
   "source": [
    "final_df.Cuisines.value_counts()[:10]"
   ]
  },
  {
   "cell_type": "code",
   "execution_count": 82,
   "id": "4847f886",
   "metadata": {},
   "outputs": [
    {
     "data": {
      "text/plain": [
       "([<matplotlib.patches.Wedge at 0x1d83d9057e0>,\n",
       "  <matplotlib.patches.Wedge at 0x1d83d906cb0>,\n",
       "  <matplotlib.patches.Wedge at 0x1d83d907190>,\n",
       "  <matplotlib.patches.Wedge at 0x1d83d907670>,\n",
       "  <matplotlib.patches.Wedge at 0x1d83d907b50>,\n",
       "  <matplotlib.patches.Wedge at 0x1d83d928070>,\n",
       "  <matplotlib.patches.Wedge at 0x1d83d928550>,\n",
       "  <matplotlib.patches.Wedge at 0x1d83d928a30>,\n",
       "  <matplotlib.patches.Wedge at 0x1d83d928f10>,\n",
       "  <matplotlib.patches.Wedge at 0x1d83d9293f0>],\n",
       " [Text(0.7383739846958008, 0.8153550507137645, 'North Indian'),\n",
       "  Text(-0.5794679314239953, 0.9349956772366362, 'North Indian, Chinese'),\n",
       "  Text(-1.067309479615702, 0.26617752482593154, 'Chinese'),\n",
       "  Text(-1.0185984499802057, -0.4152796620326146, 'Fast Food'),\n",
       "  Text(-0.5935788454809928, -0.9261015895664211, 'North Indian, Mughlai'),\n",
       "  Text(-0.005887079599915552, -1.0999842463843672, 'Cafe'),\n",
       "  Text(0.4842062514572988, -0.9876964645323336, 'Bakery'),\n",
       "  Text(0.808736477166136, -0.7456174022251013, 'North Indian, Mughlai, Chinese'),\n",
       "  Text(1.0055375294202338, -0.44597564611473206, 'Bakery, Desserts'),\n",
       "  Text(1.090298995560443, -0.14576728123927227, 'Street Food')])"
      ]
     },
     "execution_count": 82,
     "metadata": {},
     "output_type": "execute_result"
    },
    {
     "data": {
      "image/png": "[encoded data removed]",
      "text/plain": [
       "<Figure size 864x432 with 1 Axes>"
      ]
     },
     "metadata": {},
     "output_type": "display_data"
    }
   ],
   "source": [
    "# Find top 10 cuisines\n",
    "cuisines_values = final_df.Cuisines.value_counts().values\n",
    "cuisines_labels = final_df.Cuisines.value_counts().index\n",
    "plt.pie(cuisines_values[:10],labels = cuisines_labels[:10])"
   ]
  },
  {
   "cell_type": "code",
   "execution_count": null,
   "id": "190f86a3",
   "metadata": {},
   "outputs": [],
   "source": []
  },
  {
   "cell_type": "code",
   "execution_count": null,
   "id": "7e406c83",
   "metadata": {},
   "outputs": [],
   "source": []
  }
 ],
 "metadata": {
  "kernelspec": {
   "display_name": "Python 3 (ipykernel)",
   "language": "python",
   "name": "python3"
  },
  "language_info": {
   "codemirror_mode": {
    "name": "ipython",
    "version": 3
   },
   "file_extension": ".py",
   "mimetype": "text/x-python",
   "name": "python",
   "nbconvert_exporter": "python",
   "pygments_lexer": "ipython3",
   "version": "3.10.1"
  }
 },
 "nbformat": 4,
 "nbformat_minor": 5
}
